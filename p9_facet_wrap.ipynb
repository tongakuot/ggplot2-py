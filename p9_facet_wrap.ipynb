{
  "cells": [
    {
      "cell_type": "raw",
      "metadata": {},
      "source": [
        "---\n",
        "title: ''\n",
        "author: Alier Reng\n",
        "format:\n",
        "  html:\n",
        "    code-fold: true\n",
        "---"
      ],
      "id": "da26b396"
    },
    {
      "cell_type": "markdown",
      "metadata": {},
      "source": [
        "## Loading the Required Libraries\n"
      ],
      "id": "9c55b1bc"
    },
    {
      "cell_type": "code",
      "metadata": {},
      "source": [
        "import polars as pl\n",
        "from plotnine import *\n",
        "from mizani.labels import label_number"
      ],
      "id": "e611597f",
      "execution_count": null,
      "outputs": []
    },
    {
      "cell_type": "code",
      "metadata": {},
      "source": [
        "from palmerpenguins import load_penguins \n",
        "penguins = load_penguins()\n",
        "print(penguins)"
      ],
      "id": "393d7edf",
      "execution_count": null,
      "outputs": []
    },
    {
      "cell_type": "markdown",
      "metadata": {},
      "source": [
        "## Plot a facet_wrap\n"
      ],
      "id": "d6528a7d"
    },
    {
      "cell_type": "code",
      "metadata": {
        "message": false
      },
      "source": [
        "#| warning: false\n",
        "(\n",
        "    ggplot(penguins, \n",
        "    aes('bill_length_mm', 'flipper_length_mm'))\n",
        "    + geom_point(aes(color='species', shape='species'))\n",
        "    + facet_wrap('island')\n",
        ")"
      ],
      "id": "e7210283",
      "execution_count": null,
      "outputs": []
    }
  ],
  "metadata": {
    "kernelspec": {
      "name": "python3",
      "language": "python",
      "display_name": "Python 3 (ipykernel)"
    }
  },
  "nbformat": 4,
  "nbformat_minor": 5
}